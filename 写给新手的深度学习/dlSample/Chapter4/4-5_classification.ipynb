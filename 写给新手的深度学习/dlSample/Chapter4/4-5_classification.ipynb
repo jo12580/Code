{
 "cells": [
  {
   "cell_type": "markdown",
   "metadata": {},
   "source": [
    "### 4.5.7 神经网络（分类）"
   ]
  },
  {
   "cell_type": "code",
   "execution_count": null,
   "metadata": {},
   "outputs": [],
   "source": [
    "%matplotlib inline\n",
    "\n",
    "import numpy as np\n",
    "import matplotlib.pyplot as plt\n",
    "\n",
    "# x、y坐标\n",
    "X = np.arange(-1.0, 1.0, 0.1)  # 元素数量是20个\n",
    "Y = np.arange(-1.0, 1.0, 0.1)\n",
    "\n",
    "# 权重\n",
    "w_im = np.array([[1.0,2.0],\n",
    "                 [2.0,3.0]])  # 中间层 2x2的矩阵\n",
    "w_mo = np.array([[-1.0,1.0],\n",
    "                 [1.0,-1.0]]) # 输出层 2x2的矩阵\n",
    "\n",
    "# 偏置\n",
    "b_im = np.array([0.3,-0.3]) # 中间层\n",
    "b_mo = np.array([0.4,0.1])  # 输出层 \n",
    "\n",
    "# 中间层\n",
    "def middle_layer(x, w, b):\n",
    "    u = np.dot(x, w) + b\n",
    "    return 1/(1+np.exp(-u)) # sigmoid関数\n",
    "\n",
    "# 输出层\n",
    "def output_layer(x, w, b):\n",
    "    u = np.dot(x, w) + b\n",
    "    return np.exp(u)/np.sum(np.exp(u)) # SoftMax函数\n",
    "\n",
    "# 保存分类结果的列表\n",
    "x_1 = []\n",
    "y_1 = []\n",
    "x_2 = []\n",
    "y_2 = []\n",
    "\n",
    "# 在网格的各个方格中进行神经网络的运算\n",
    "for i in range(20):\n",
    "    for j in range(20):\n",
    "        \n",
    "        # 正向传播\n",
    "        inp = np.array([X[i], Y[j]])\n",
    "        mid = middle_layer(inp, w_im, b_im)\n",
    "        out = output_layer(mid, w_mo, b_mo)\n",
    "        \n",
    "        # 对概率的大小进行比较并分类\n",
    "        if out[0] > out[1]:\n",
    "            x_1.append(X[i])\n",
    "            y_1.append(Y[j])\n",
    "        else:\n",
    "            x_2.append(X[i])\n",
    "            y_2.append(Y[j])\n",
    "\n",
    "# 分布图的显示\n",
    "plt.scatter(x_1, y_1, marker=\"+\")\n",
    "plt.scatter(x_2, y_2, marker=\"o\")\n",
    "plt.show()"
   ]
  },
  {
   "cell_type": "code",
   "execution_count": null,
   "metadata": {},
   "outputs": [],
   "source": []
  }
 ],
 "metadata": {
  "kernelspec": {
   "display_name": "Python 3",
   "language": "python",
   "name": "python3"
  },
  "language_info": {
   "codemirror_mode": {
    "name": "ipython",
    "version": 3
   },
   "file_extension": ".py",
   "mimetype": "text/x-python",
   "name": "python",
   "nbconvert_exporter": "python",
   "pygments_lexer": "ipython3",
   "version": "3.6.5"
  }
 },
 "nbformat": 4,
 "nbformat_minor": 2
}