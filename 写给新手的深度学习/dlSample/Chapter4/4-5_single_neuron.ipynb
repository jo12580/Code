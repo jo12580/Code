{
 "cells": [
  {
   "cell_type": "markdown",
   "metadata": {},
   "source": [
    "### 4.5.1 单一神经元的编程实现"
   ]
  },
  {
   "cell_type": "code",
   "execution_count": null,
   "metadata": {},
   "outputs": [],
   "source": [
    "%matplotlib inline\n",
    "\n",
    "import numpy as np\n",
    "import matplotlib.pyplot as plt\n",
    "\n",
    "# x、y坐标\n",
    "X = np.arange(-1.0, 1.0, 0.2)  # 元素数量是10个\n",
    "Y = np.arange(-1.0, 1.0, 0.2)\n",
    "\n",
    "# 容纳输出的10x10的网格\n",
    "Z = np.zeros((10,10))\n",
    "\n",
    "# x、y坐标的输入的权重\n",
    "w_x = 2.5\n",
    "w_y = 3.0\n",
    "\n",
    "# 偏置\n",
    "bias = 0.1\n",
    "\n",
    "# 使用网格的各个方块对神经元进行计算\n",
    "for i in range(10):\n",
    "    for j in range(10):\n",
    "        \n",
    "        #  输入与权重的乘积的总和 + 偏置\n",
    "        u = X[i]*w_x + Y[j]*w_y + bias \n",
    "        \n",
    "        # 将输出纳入到网格中\n",
    "        y = 1/(1+np.exp(-u)) # sigmoid関数\n",
    "        Z[j][i] = y\n",
    "\n",
    "# 网格的表示\n",
    "plt.imshow(Z, \"gray\", vmin = 0.0, vmax = 1.0)\n",
    "plt.colorbar()  \n",
    "plt.show()"
   ]
  },
  {
   "cell_type": "code",
   "execution_count": null,
   "metadata": {},
   "outputs": [],
   "source": []
  }
 ],
 "metadata": {
  "kernelspec": {
   "display_name": "Python 3",
   "language": "python",
   "name": "python3"
  },
  "language_info": {
   "codemirror_mode": {
    "name": "ipython",
    "version": 3
   },
   "file_extension": ".py",
   "mimetype": "text/x-python",
   "name": "python",
   "nbconvert_exporter": "python",
   "pygments_lexer": "ipython3",
   "version": "3.6.5"
  }
 },
 "nbformat": 4,
 "nbformat_minor": 2
}